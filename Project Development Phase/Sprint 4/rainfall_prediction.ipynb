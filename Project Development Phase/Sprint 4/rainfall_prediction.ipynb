{
 "cells": [
  {
   "cell_type": "code",
   "execution_count": 18,
   "metadata": {},
   "outputs": [],
   "source": [
    "import pickle\n",
    "import numpy as np\n",
    "import random\n",
    "scaler_path = 'D:\\\\7th Semester\\\\PRIEE\\\\GITHUB-REPO\\\\Project Development Phase\\\\Sprint 2\\\\SAVED_MODELS\\\\scale.pkl'\n",
    "model_path = 'D:\\\\7th Semester\\\\PRIEE\\\\GITHUB-REPO\\\\Project Development Phase\\\\Sprint 2\\\\SAVED_MODELS\\\\rainfall.pkl'\n",
    "encoder_path = 'D:\\\\7th Semester\\\\PRIEE\\\\GITHUB-REPO\\\\Project Development Phase\\\\Sprint 2\\\\SAVED_MODELS\\\\encoder.pkl'\n",
    "data_path = 'D:\\\\7th Semester\\\\PRIEE\\\\GITHUB-REPO\\\\Project Development Phase\\\\Sprint 2\\\\SAVED_MODELS\\\\data.pkl'\n",
    "def make_prediction(test_data):\n",
    "  scaler_custom_loaded = pickle.load(open(scaler_path,'rb'))\n",
    "  model_custom_loaded = pickle.load(open(model_path,'rb'))\n",
    "  x_test_data = np.array(test_data).reshape(1,-1)\n",
    "  x_test_data = scaler_custom_loaded.transform(x_test_data)\n",
    "  prediction = model_custom_loaded.predict(x_test_data.reshape(1,-1))[0]\n",
    "  if prediction == 1:\n",
    "    print('It will Rain')\n",
    "  else:\n",
    "    print('It wont Rain tomorrow')\n",
    "  return prediction\n",
    "\n",
    "def data_preprocessing(test_data_location):\n",
    "  lencoders = pickle.load(open(encoder_path,'rb'))\n",
    "  features = pickle.load(open(data_path,'rb'))\n",
    "  location = lencoders['Location'].transform([test_data_location])[0]\n",
    "  Data = features[features['Location']==location]\n",
    "  x_test_data_series = Data.iloc[random.randint(0,len(Data))]\n",
    "  return x_test_data_series\n",
    "\n",
    "def prediction(location):\n",
    "  preprocessed_data = data_preprocessing(location)\n",
    "  p = make_prediction(preprocessed_data)\n",
    "  return p"
   ]
  },
  {
   "cell_type": "code",
   "execution_count": 19,
   "metadata": {},
   "outputs": [
    {
     "name": "stdout",
     "output_type": "stream",
     "text": [
      "It wont Rain tomorrow\n",
      "0.0\n"
     ]
    },
    {
     "name": "stderr",
     "output_type": "stream",
     "text": [
      "c:\\Users\\User\\anaconda3\\envs\\MLSem6\\lib\\site-packages\\sklearn\\base.py:451: UserWarning: X does not have valid feature names, but StandardScaler was fitted with feature names\n",
      "  \"X does not have valid feature names, but\"\n"
     ]
    }
   ],
   "source": [
    "print(prediction('Albury'))"
   ]
  }
 ],
 "metadata": {
  "kernelspec": {
   "display_name": "MLSem6",
   "language": "python",
   "name": "python3"
  },
  "language_info": {
   "codemirror_mode": {
    "name": "ipython",
    "version": 3
   },
   "file_extension": ".py",
   "mimetype": "text/x-python",
   "name": "python",
   "nbconvert_exporter": "python",
   "pygments_lexer": "ipython3",
   "version": "3.7.15"
  },
  "orig_nbformat": 4,
  "vscode": {
   "interpreter": {
    "hash": "98bee32e5a2a188235a22e4c132008af9788eec7bcfdafe7c68f314c79772862"
   }
  }
 },
 "nbformat": 4,
 "nbformat_minor": 2
}
